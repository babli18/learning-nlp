{
 "cells": [
  {
   "cell_type": "code",
   "execution_count": 1,
   "metadata": {},
   "outputs": [],
   "source": [
    "import numpy as np\n",
    "%matplotlib inline\n",
    "import matplotlib.pyplot as plt\n",
    "plt.style.use('ggplot')\n",
    "from sklearn.decomposition import PCA\n",
    "import gensim.downloader as api\n",
    "from gensim.models import KeyedVectors"
   ]
  },
  {
   "cell_type": "markdown",
   "metadata": {},
   "source": [
    "For looking at vectors, we are using Gensim. Its a package (not a deep learning package) for word and text similarity modelling, which started with LDA_style topic models and grew into SDV and neural word represenations. It's efficient and scalable. Provide several sets of word vectors that we can easily load."
   ]
  },
  {
   "cell_type": "code",
   "execution_count": 2,
   "metadata": {},
   "outputs": [
    {
     "name": "stdout",
     "output_type": "stream",
     "text": [
      "<class 'gensim.models.keyedvectors.KeyedVectors'>\n"
     ]
    }
   ],
   "source": [
    "model = api.load(\"glove-wiki-gigaword-100\")  \n",
    "print(type(model))  "
   ]
  },
  {
   "cell_type": "code",
   "execution_count": 3,
   "metadata": {},
   "outputs": [
    {
     "data": {
      "text/plain": [
       "array([-0.66146  ,  0.94335  , -0.72214  ,  0.17403  , -0.42524  ,\n",
       "        0.36303  ,  1.0135   , -0.14802  ,  0.25817  , -0.20326  ,\n",
       "       -0.64338  ,  0.16632  ,  0.61518  ,  1.397    , -0.094506 ,\n",
       "        0.0041843, -0.18976  , -0.55421  , -0.39371  , -0.22501  ,\n",
       "       -0.34643  ,  0.32076  ,  0.34395  , -0.7034   ,  0.23932  ,\n",
       "        0.69951  , -0.16461  , -0.31819  , -0.34034  , -0.44906  ,\n",
       "       -0.069667 ,  0.35348  ,  0.17498  , -0.95057  , -0.2209   ,\n",
       "        1.0647   ,  0.23231  ,  0.32569  ,  0.47662  , -1.1206   ,\n",
       "        0.28168  , -0.75172  , -0.54654  , -0.66337  ,  0.34804  ,\n",
       "       -0.69058  , -0.77092  , -0.40167  , -0.069351 , -0.049238 ,\n",
       "       -0.39351  ,  0.16735  , -0.14512  ,  1.0083   , -1.0608   ,\n",
       "       -0.87314  , -0.29339  ,  0.68278  ,  0.61634  , -0.088844 ,\n",
       "        0.88094  ,  0.099809 , -0.27161  , -0.58026  ,  0.50364  ,\n",
       "       -0.93814  ,  0.67576  , -0.43124  , -0.10517  , -1.2404   ,\n",
       "       -0.74353  ,  0.28637  ,  0.29012  ,  0.89377  ,  0.67406  ,\n",
       "        0.86422  , -0.30693  , -0.14718  ,  0.078353 ,  0.74013  ,\n",
       "        0.32658  , -0.052579 , -1.1665   ,  0.87079  , -0.69402  ,\n",
       "       -0.75977  , -0.37164  , -0.11887  ,  0.18551  ,  0.041883 ,\n",
       "        0.59352  ,  0.30519  , -0.54819  , -0.29424  , -1.4912   ,\n",
       "       -1.6548   ,  0.98982  ,  0.27325  ,  1.009    ,  0.94544  ],\n",
       "      dtype=float32)"
      ]
     },
     "execution_count": 3,
     "metadata": {},
     "output_type": "execute_result"
    }
   ],
   "source": [
    "model['bread']"
   ]
  },
  {
   "cell_type": "code",
   "execution_count": 4,
   "metadata": {},
   "outputs": [
    {
     "data": {
      "text/plain": [
       "array([-0.25144  ,  0.52157  , -0.75452  ,  0.28039  , -0.31388  ,\n",
       "        0.274    ,  1.1971   , -0.10519  ,  0.82544  , -0.33398  ,\n",
       "       -0.21417  ,  0.22216  ,  0.14982  ,  0.47384  ,  0.41984  ,\n",
       "        0.69397  , -0.25999  , -0.44414  ,  0.58296  , -0.30851  ,\n",
       "       -0.076455 ,  0.33468  ,  0.28055  , -0.99012  ,  0.30349  ,\n",
       "        0.39128  ,  0.031526 , -0.095395 , -0.004745 , -0.81347  ,\n",
       "        0.27869  , -0.1812   ,  0.14632  , -0.42186  ,  0.13857  ,\n",
       "        1.139    ,  0.14925  , -0.051459 ,  0.37875  , -0.2613   ,\n",
       "        0.011081 , -0.28881  , -0.38662  , -0.3135   , -0.1954   ,\n",
       "        0.19248  , -0.52995  , -0.40674  , -0.25159  ,  0.06272  ,\n",
       "       -0.32724  ,  0.28374  , -0.2155   , -0.061832 , -0.50134  ,\n",
       "        0.0093959,  0.30715  ,  0.3873   , -0.74554  , -0.45947  ,\n",
       "        0.40032  , -0.1378   , -0.26968  , -0.3946   , -0.64876  ,\n",
       "       -0.47149  , -0.085536 ,  0.092795 , -0.034018 , -0.61906  ,\n",
       "        0.19123  ,  0.20563  ,  0.29056  , -0.010908 ,  0.15313  ,\n",
       "        0.33144  ,  0.33806  ,  0.061708 ,  0.20785  ,  0.65348  ,\n",
       "       -0.053222 ,  0.18589  ,  0.32647  , -0.11923  ,  0.42008  ,\n",
       "       -0.26931  ,  0.025489 ,  0.0036535,  0.1327   , -0.22763  ,\n",
       "        0.07564  ,  0.55773  ,  0.2978   ,  0.28144  ,  0.19775  ,\n",
       "       -0.23582  ,  0.65303  ,  0.089897 ,  0.35844  ,  0.14304  ],\n",
       "      dtype=float32)"
      ]
     },
     "execution_count": 4,
     "metadata": {},
     "output_type": "execute_result"
    }
   ],
   "source": [
    "model['croissant']"
   ]
  },
  {
   "cell_type": "code",
   "execution_count": 5,
   "metadata": {},
   "outputs": [
    {
     "data": {
      "text/plain": [
       "[('flour', 0.7654520869255066),\n",
       " ('baked', 0.7607272267341614),\n",
       " ('cake', 0.7605516910552979),\n",
       " ('loaf', 0.7457114458084106),\n",
       " ('toast', 0.7397798299789429),\n",
       " ('cheese', 0.7374635338783264),\n",
       " ('potato', 0.7367485165596008),\n",
       " ('butter', 0.7279618978500366),\n",
       " ('potatoes', 0.7085272669792175),\n",
       " ('pasta', 0.7071877717971802)]"
      ]
     },
     "execution_count": 5,
     "metadata": {},
     "output_type": "execute_result"
    }
   ],
   "source": [
    "model.most_similar('bread')"
   ]
  },
  {
   "cell_type": "code",
   "execution_count": 6,
   "metadata": {},
   "outputs": [
    {
     "data": {
      "text/plain": [
       "[('cakes', 0.8047241568565369),\n",
       " ('chocolate', 0.7893112301826477),\n",
       " ('pie', 0.7703179717063904),\n",
       " ('dessert', 0.7649706602096558),\n",
       " ('bread', 0.7605515718460083),\n",
       " ('frosting', 0.7601189017295837),\n",
       " ('cookie', 0.7544960975646973),\n",
       " ('cookies', 0.7488499283790588),\n",
       " ('baked', 0.7466464638710022),\n",
       " ('pudding', 0.7463829517364502)]"
      ]
     },
     "execution_count": 6,
     "metadata": {},
     "output_type": "execute_result"
    }
   ],
   "source": [
    "model.most_similar('cake')"
   ]
  },
  {
   "cell_type": "code",
   "execution_count": 7,
   "metadata": {},
   "outputs": [
    {
     "data": {
      "text/plain": [
       "[('ileus', 0.6114288568496704),\n",
       " ('suparman', 0.6036075949668884),\n",
       " ('agcaoili', 0.5940601825714111),\n",
       " ('ionita', 0.5873614549636841),\n",
       " ('nassef', 0.5831325054168701),\n",
       " ('bashirov', 0.5810243487358093),\n",
       " ('rozana', 0.5782657265663147),\n",
       " ('iddrisu', 0.5752978920936584),\n",
       " ('zety', 0.5747663378715515),\n",
       " ('warraich', 0.5742456912994385)]"
      ]
     },
     "execution_count": 7,
     "metadata": {},
     "output_type": "execute_result"
    }
   ],
   "source": [
    "model.most_similar(negative='school')"
   ]
  },
  {
   "cell_type": "code",
   "execution_count": 8,
   "metadata": {},
   "outputs": [
    {
     "name": "stdout",
     "output_type": "stream",
     "text": [
      "queen: 0.5805\n"
     ]
    }
   ],
   "source": [
    "result = model.most_similar(positive=['women', 'king'], negative=['man'])\n",
    "print(\"{}: {:.4f}\".format(*result[0]))"
   ]
  },
  {
   "cell_type": "code",
   "execution_count": 9,
   "metadata": {},
   "outputs": [],
   "source": [
    "def analogy(x1, x2, y1):\n",
    "    result = model.most_similar(positive=[y1, x2], negative=[x1])\n",
    "    return result[0][0]\n",
    "\n",
    "# Example\n",
    "# From King component you are subtracting man and adding women to get Queen\n",
    "# (King - Man) + Woment = Queen"
   ]
  },
  {
   "cell_type": "code",
   "execution_count": 10,
   "metadata": {},
   "outputs": [
    {
     "data": {
      "text/plain": [
       "'queen'"
      ]
     },
     "execution_count": 10,
     "metadata": {},
     "output_type": "execute_result"
    }
   ],
   "source": [
    "analogy('man','women','king')"
   ]
  },
  {
   "cell_type": "code",
   "execution_count": 11,
   "metadata": {},
   "outputs": [
    {
     "data": {
      "text/plain": [
       "'australian'"
      ]
     },
     "execution_count": 11,
     "metadata": {},
     "output_type": "execute_result"
    }
   ],
   "source": [
    "analogy('japan', 'japanese', 'australia')"
   ]
  },
  {
   "cell_type": "code",
   "execution_count": 13,
   "metadata": {},
   "outputs": [
    {
     "data": {
      "text/plain": [
       "'champagne'"
      ]
     },
     "execution_count": 13,
     "metadata": {},
     "output_type": "execute_result"
    }
   ],
   "source": [
    "analogy('australia', 'beer', 'france')"
   ]
  },
  {
   "cell_type": "code",
   "execution_count": 14,
   "metadata": {},
   "outputs": [
    {
     "data": {
      "text/plain": [
       "'longest'"
      ]
     },
     "execution_count": 14,
     "metadata": {},
     "output_type": "execute_result"
    }
   ],
   "source": [
    "analogy('tall', 'tallest', 'long')"
   ]
  },
  {
   "cell_type": "code",
   "execution_count": 12,
   "metadata": {},
   "outputs": [
    {
     "name": "stdout",
     "output_type": "stream",
     "text": [
      "cereal\n"
     ]
    }
   ],
   "source": [
    "print(model.doesnt_match(\"breakfast cereal dinner lunch\".split()))"
   ]
  }
 ],
 "metadata": {
  "kernelspec": {
   "display_name": "base",
   "language": "python",
   "name": "python3"
  },
  "language_info": {
   "codemirror_mode": {
    "name": "ipython",
    "version": 3
   },
   "file_extension": ".py",
   "mimetype": "text/x-python",
   "name": "python",
   "nbconvert_exporter": "python",
   "pygments_lexer": "ipython3",
   "version": "3.11.5"
  }
 },
 "nbformat": 4,
 "nbformat_minor": 2
}
